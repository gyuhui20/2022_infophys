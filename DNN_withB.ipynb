{
  "cells": [
    {
      "cell_type": "code",
      "execution_count": 3,
      "metadata": {
        "id": "brurMGreRxMv"
      },
      "outputs": [],
      "source": [
        "import matplotlib.pyplot as plt\n",
        "import numpy as np\n",
        "import time\n",
        "from sklearn.datasets import load_boston\n",
        "from sklearn.model_selection import train_test_split"
      ]
    },
    {
      "cell_type": "code",
      "execution_count": 1,
      "metadata": {
        "id": "8CKjM6HWRnpf"
      },
      "outputs": [],
      "source": [
        "class DeepNeuralNetwork():\n",
        "    def __init__(self, size, epoch=10, lr=1e-4):\n",
        "        self.size = size\n",
        "        self.epoch = epoch\n",
        "        self.lr = lr\n",
        "        self.loss = []\n",
        "    \n",
        "        # we save all parameters in the neural network in this dictionary\n",
        "        self.params = self.initialization()\n",
        "    \n",
        "    \n",
        "    ### Initialization\n",
        "    def initialization(self):\n",
        "        # number of nodes in each layer\n",
        "        input_layer = self.size[0] #13\n",
        "        hidden1 = self.size[1] #24\n",
        "        hidden2 = self.size[2] #48\n",
        "        hidden3 = self.size[3] #24\n",
        "        output_layer = self.size[4] #1\n",
        "    \n",
        "        params = {\n",
        "            'W1': np.random.randn(hidden1, input_layer),\n",
        "            'W2': np.random.randn(hidden2, hidden1),\n",
        "            'W3': np.random.randn(hidden3, hidden2),\n",
        "            'W4': np.random.randn(output_layer, hidden3),\n",
        "\n",
        "            'B1': np.random.randn(hidden1, 1),\n",
        "            'B2': np.random.randn(hidden2, 1),\n",
        "            'B3': np.random.randn(hidden3, 1),\n",
        "            'B4': np.random.randn(output_layer, 1)\n",
        "        }\n",
        "        return params\n",
        "\n",
        "    ### Activation function (basic form, derivative form)\n",
        "    def relu(self, x, derivative=False):\n",
        "        if derivative==True:\n",
        "            x[x > 0] = 1\n",
        "            x[x <= 0] = 0\n",
        "            return x\n",
        "        return np.maximum(0, x)\n",
        "\n",
        "\n",
        "    ### Feedforward\n",
        "    def forward_pass(self, x_train):\n",
        "        params = self.params\n",
        "\n",
        "        params['I'] = x_train.reshape(13, 1)\n",
        "\n",
        "        params['A1'] = np.dot(params['W1'], params['I']) + params['B1']\n",
        "        params['R1'] = self.relu(params['A1'])\n",
        "\n",
        "        params['A2'] = np.dot(params['W2'], params['A1']) + params['B2']\n",
        "        params['R2'] = self.relu(params['A2'])\n",
        "\n",
        "        params['A3'] = np.dot(params['W3'], params['A2']) + params['B3'] \n",
        "        params['R3'] = self.relu(params['A3'])\n",
        "\n",
        "        params['O'] = np.dot(params['W4'], params['R3']) + params['B4']\n",
        "\n",
        "        return params['O']\n",
        "\n",
        "\n",
        "    def lossfunction(self, output, y_train):\n",
        "        return (output-y_train)**2\n",
        "\n",
        "\n",
        "\n",
        "    ### Backpropagation\n",
        "    def backward_pass(self, y_train, output):\n",
        "        params = self.params\n",
        "        change_params = {}\n",
        "\n",
        "        error_O = output - y_train\n",
        "        error_R3 = np.multiply( np.dot(params['W4'].T, error_O), self.relu(params['A3'], derivative=True) )\n",
        "        error_R2 = np.multiply( np.dot(params['W3'].T, error_R3), self.relu(params['A2'], derivative=True) )\n",
        "        error_R1 = np.multiply( np.dot(params['W2'].T, error_R2), self.relu(params['A1'], derivative=True) )\n",
        "        \n",
        "        change_params['W4'] = np.dot(params['R3'], error_O.T).T\n",
        "        change_params['W3'] = np.dot(params['R2'], error_R3.T).T\n",
        "        change_params['W2'] = np.dot(params['R1'], error_R2.T).T\n",
        "        change_params['W1'] = np.dot(params['I'], error_R1.T).T\n",
        "\n",
        "        change_params['B4'] = np.full(error_O.shape, error_O.mean())\n",
        "        change_params['B3'] = np.full(error_R3.shape, error_R3.mean())\n",
        "        change_params['B2'] = np.full(error_R2.shape, error_R2.mean())\n",
        "        change_params['B1'] = np.full(error_R1.shape, error_R1.mean())\n",
        "\n",
        "        return change_params\n",
        "\n",
        "\n",
        "    def update_network_parameters(self, changes_to_params):\n",
        "        for key, value in changes_to_params.items():\n",
        "            self.params[key] -= self.lr * value\n",
        "\n",
        "\n",
        "    def train(self, x_train, y_train):\n",
        "        start_time = time.time()\n",
        "        for iteration in range(self.epoch):\n",
        "            loss_list = []\n",
        "            for x, y in zip(x_train, y_train):\n",
        "                output = self.forward_pass(x.reshape(13, 1))\n",
        "                changes_to_params = self.backward_pass(y.reshape(1, 1), output)\n",
        "                self.update_network_parameters(changes_to_params)\n",
        "                loss_list.append(self.lossfunction(float(self.forward_pass(x.reshape(13, 1))), float(y)))\n",
        "            self.loss.append(np.mean(loss_list))\n",
        "            if (iteration) % 100 == 0:\n",
        "                print('Epoch: {0}, Time Spent: {1:.2f}s'.format(\n",
        "                    iteration, time.time() - start_time\n",
        "                ))"
      ]
    },
    {
      "cell_type": "code",
      "execution_count": 6,
      "metadata": {
        "id": "444fE4Y1R19f"
      },
      "outputs": [
        {
          "name": "stdout",
          "output_type": "stream",
          "text": [
            "Epoch: 0, Time Spent: 0.09s\n",
            "Epoch: 100, Time Spent: 8.65s\n",
            "Epoch: 200, Time Spent: 17.21s\n",
            "Epoch: 300, Time Spent: 25.89s\n",
            "Epoch: 400, Time Spent: 34.43s\n",
            "Epoch: 500, Time Spent: 43.60s\n",
            "Epoch: 600, Time Spent: 52.60s\n",
            "Epoch: 700, Time Spent: 61.57s\n",
            "Epoch: 800, Time Spent: 70.38s\n",
            "Epoch: 900, Time Spent: 79.01s\n",
            "Epoch: 1000, Time Spent: 87.64s\n",
            "Epoch: 1100, Time Spent: 96.29s\n",
            "Epoch: 1200, Time Spent: 105.24s\n",
            "Epoch: 1300, Time Spent: 114.22s\n",
            "Epoch: 1400, Time Spent: 122.73s\n",
            "Epoch: 1500, Time Spent: 131.21s\n",
            "Epoch: 1600, Time Spent: 139.89s\n",
            "Epoch: 1700, Time Spent: 148.92s\n",
            "Epoch: 1800, Time Spent: 157.38s\n",
            "Epoch: 1900, Time Spent: 165.88s\n",
            "Epoch: 2000, Time Spent: 174.93s\n",
            "Epoch: 2100, Time Spent: 184.05s\n",
            "Epoch: 2200, Time Spent: 192.89s\n",
            "Epoch: 2300, Time Spent: 201.60s\n",
            "Epoch: 2400, Time Spent: 210.30s\n",
            "Epoch: 2500, Time Spent: 219.28s\n",
            "Epoch: 2600, Time Spent: 227.98s\n",
            "Epoch: 2700, Time Spent: 236.36s\n",
            "Epoch: 2800, Time Spent: 245.17s\n",
            "Epoch: 2900, Time Spent: 254.29s\n",
            "Epoch: 3000, Time Spent: 262.95s\n",
            "Epoch: 3100, Time Spent: 271.60s\n",
            "Epoch: 3200, Time Spent: 280.34s\n",
            "Epoch: 3300, Time Spent: 288.86s\n",
            "Epoch: 3400, Time Spent: 298.14s\n",
            "Epoch: 3500, Time Spent: 306.93s\n",
            "Epoch: 3600, Time Spent: 315.51s\n",
            "Epoch: 3700, Time Spent: 324.27s\n",
            "Epoch: 3800, Time Spent: 332.68s\n",
            "Epoch: 3900, Time Spent: 341.56s\n",
            "Epoch: 4000, Time Spent: 350.50s\n",
            "Epoch: 4100, Time Spent: 359.34s\n",
            "Epoch: 4200, Time Spent: 368.04s\n",
            "Epoch: 4300, Time Spent: 376.63s\n",
            "Epoch: 4400, Time Spent: 385.29s\n",
            "Epoch: 4500, Time Spent: 393.99s\n",
            "Epoch: 4600, Time Spent: 402.77s\n",
            "Epoch: 4700, Time Spent: 411.49s\n",
            "Epoch: 4800, Time Spent: 420.81s\n",
            "Epoch: 4900, Time Spent: 430.14s\n",
            "Epoch: 5000, Time Spent: 438.87s\n",
            "Epoch: 5100, Time Spent: 447.67s\n",
            "Epoch: 5200, Time Spent: 456.39s\n",
            "Epoch: 5300, Time Spent: 465.30s\n",
            "Epoch: 5400, Time Spent: 474.43s\n",
            "Epoch: 5500, Time Spent: 483.25s\n",
            "Epoch: 5600, Time Spent: 491.67s\n",
            "Epoch: 5700, Time Spent: 500.33s\n",
            "Epoch: 5800, Time Spent: 508.97s\n",
            "Epoch: 5900, Time Spent: 517.67s\n",
            "Epoch: 6000, Time Spent: 526.39s\n",
            "Epoch: 6100, Time Spent: 535.24s\n",
            "Epoch: 6200, Time Spent: 544.31s\n",
            "Epoch: 6300, Time Spent: 553.17s\n",
            "Epoch: 6400, Time Spent: 562.05s\n",
            "Epoch: 6500, Time Spent: 570.56s\n",
            "Epoch: 6600, Time Spent: 579.10s\n",
            "Epoch: 6700, Time Spent: 588.00s\n",
            "Epoch: 6800, Time Spent: 596.67s\n",
            "Epoch: 6900, Time Spent: 605.29s\n",
            "Epoch: 7000, Time Spent: 613.90s\n",
            "Epoch: 7100, Time Spent: 622.74s\n",
            "Epoch: 7200, Time Spent: 631.26s\n",
            "Epoch: 7300, Time Spent: 639.87s\n",
            "Epoch: 7400, Time Spent: 648.57s\n",
            "Epoch: 7500, Time Spent: 657.66s\n",
            "Epoch: 7600, Time Spent: 666.61s\n",
            "Epoch: 7700, Time Spent: 675.10s\n",
            "Epoch: 7800, Time Spent: 684.02s\n",
            "Epoch: 7900, Time Spent: 692.50s\n",
            "Epoch: 8000, Time Spent: 701.08s\n",
            "Epoch: 8100, Time Spent: 709.88s\n",
            "Epoch: 8200, Time Spent: 718.41s\n",
            "Epoch: 8300, Time Spent: 726.86s\n",
            "Epoch: 8400, Time Spent: 735.50s\n",
            "Epoch: 8500, Time Spent: 744.11s\n",
            "Epoch: 8600, Time Spent: 752.97s\n",
            "Epoch: 8700, Time Spent: 762.01s\n",
            "Epoch: 8800, Time Spent: 770.63s\n",
            "Epoch: 8900, Time Spent: 779.07s\n",
            "Epoch: 9000, Time Spent: 787.87s\n",
            "Epoch: 9100, Time Spent: 796.52s\n",
            "Epoch: 9200, Time Spent: 805.17s\n",
            "Epoch: 9300, Time Spent: 813.82s\n",
            "Epoch: 9400, Time Spent: 822.48s\n",
            "Epoch: 9500, Time Spent: 831.26s\n",
            "Epoch: 9600, Time Spent: 840.20s\n",
            "Epoch: 9700, Time Spent: 848.82s\n",
            "Epoch: 9800, Time Spent: 857.77s\n",
            "Epoch: 9900, Time Spent: 867.08s\n"
          ]
        }
      ],
      "source": [
        "boston = load_boston()\n",
        "X = boston.data #(506, 13)\n",
        "Y = boston.target.T #(506, )\n",
        "X_train, X_val, Y_train, Y_val = train_test_split(X, Y, test_size=0.15, random_state=42)\n",
        "dnn = DeepNeuralNetwork(size=[13, 24, 48, 24, 1], epoch=10000, lr=1e-10)\n",
        "dnn.train(X_train, Y_train)\n"
      ]
    },
    {
      "cell_type": "code",
      "execution_count": 9,
      "metadata": {
        "colab": {
          "base_uri": "https://localhost:8080/",
          "height": 545
        },
        "id": "TMssANBnruoM",
        "outputId": "67daf736-bf8a-4f01-bbb2-4c4726c3bea6"
      },
      "outputs": [
        {
          "data": {
            "image/png": "[encoded data removed]",
            "text/plain": [
              "<Figure size 432x288 with 1 Axes>"
            ]
          },
          "metadata": {
            "needs_background": "light"
          },
          "output_type": "display_data"
        },
        {
          "data": {
            "image/png": "[encoded data removed]",
            "text/plain": [
              "<Figure size 432x288 with 1 Axes>"
            ]
          },
          "metadata": {
            "needs_background": "light"
          },
          "output_type": "display_data"
        }
      ],
      "source": [
        "predict = []\n",
        "for i in range(len(X_val)):\n",
        "    predict.append(float(dnn.forward_pass(X_val[i])))\n",
        "\n",
        "plt.figure()\n",
        "plt.plot(dnn.loss)\n",
        "plt.title('Loss Graph')\n",
        "plt.ylim(0, 5000)\n",
        "#plt.savefig('./DNN_Loss_Graph.png')\n",
        "plt.show()\n",
        "\n",
        "plt.figure()\n",
        "plt.plot(predict, '.', label='predict')\n",
        "plt.plot(Y_val, '.', label='target')\n",
        "plt.title('Predict VS Target')\n",
        "#plt.ylim(0, 100)\n",
        "plt.legend()\n",
        "#plt.savefig('./DNN_PredictVSTarget.png')\n",
        "plt.show()"
      ]
    }
  ],
  "metadata": {
    "colab": {
      "provenance": []
    },
    "kernelspec": {
      "display_name": "Python 3.9.13 ('cocker')",
      "language": "python",
      "name": "python3"
    },
    "language_info": {
      "codemirror_mode": {
        "name": "ipython",
        "version": 3
      },
      "file_extension": ".py",
      "mimetype": "text/x-python",
      "name": "python",
      "nbconvert_exporter": "python",
      "pygments_lexer": "ipython3",
      "version": "3.9.13"
    },
    "vscode": {
      "interpreter": {
        "hash": "6d71b4a57f5b7e4ec2b58110d28e1e0b0716a86dd3b71722facf3e5d85f632e9"
      }
    }
  },
  "nbformat": 4,
  "nbformat_minor": 0
}
