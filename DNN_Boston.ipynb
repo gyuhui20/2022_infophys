{
  "cells": [
    {
      "cell_type": "code",
      "execution_count": 6,
      "metadata": {
        "id": "brurMGreRxMv"
      },
      "outputs": [],
      "source": [
        "import numpy as np\n",
        "import time\n",
        "from sklearn.datasets import load_boston\n",
        "from sklearn.model_selection import train_test_split"
      ]
    },
    {
      "cell_type": "code",
      "execution_count": 116,
      "metadata": {
        "id": "8CKjM6HWRnpf"
      },
      "outputs": [],
      "source": [
        "class DeepNeuralNetwork():\n",
        "    def __init__(self, size, epoch=10, lr=1e-4):\n",
        "        self.size = size\n",
        "        self.epoch = epoch\n",
        "        self.lr = lr\n",
        "        self.loss = []\n",
        "    \n",
        "        # we save all parameters in the neural network in this dictionary\n",
        "        self.params = self.initialization()\n",
        "    \n",
        "    \n",
        "    ##Initialization\n",
        "    def initialization(self):\n",
        "        # number of nodes in each layer\n",
        "        input_layer = self.size[0] #13\n",
        "        hidden1 = self.size[1] #24\n",
        "        hidden2 = self.size[2] #48\n",
        "        hidden3 = self.size[3] #24\n",
        "        output_layer = self.size[4] #1\n",
        "    \n",
        "        params = {\n",
        "            'W1': np.random.randn(hidden1, input_layer),\n",
        "            'W2': np.random.randn(hidden2, hidden1),\n",
        "            'W3': np.random.randn(hidden3, hidden2),\n",
        "            'W4': np.random.randn(output_layer, hidden3),\n",
        "\n",
        "            #'B1': np.random.randn(hidden1, 1),\n",
        "            #'B2': np.random.randn(hidden2, 1),\n",
        "            #'B3': np.random.randn(hidden3, 1),\n",
        "            #'B4': np.random.randn(output_layer, 1)\n",
        "        }\n",
        "        return params\n",
        "\n",
        "\n",
        "    def relu(self, x, derivative=False):\n",
        "        if derivative==True:\n",
        "            x[x > 0] = 1\n",
        "            x[x <= 0] = 0\n",
        "            return x\n",
        "        return np.maximum(0, x)\n",
        "\n",
        "\n",
        "    ### Feedforward\n",
        "    def forward_pass(self, x_train):\n",
        "        params = self.params\n",
        "\n",
        "        # input layer activations becomes sample\n",
        "        params['I'] = x_train.reshape(13, 1)\n",
        "\n",
        "        # input layer to hidden layer 1\n",
        "        params['A1'] = np.dot(params[\"W1\"], params['I'])\n",
        "        #params['A1'] = np.dot(params[\"W1\"], params['I']) + params['B1']\n",
        "        params['R1'] = self.relu(params['A1'])\n",
        "\n",
        "        # hidden layer 1 to hidden layer 2\n",
        "        params['A2'] = np.dot(params[\"W2\"], params['A1'])\n",
        "        #params['A2'] = np.dot(params[\"W2\"], params['A1']) + params['B2']\n",
        "        params['R2'] = self.relu(params['A2'])\n",
        "\n",
        "        # hidden layer 2 to hidden layer 3\n",
        "        params['A3'] = np.dot(params[\"W3\"], params['A2']) \n",
        "        #params['A3'] = np.dot(params[\"W3\"], params['A2']) + params['B3'] \n",
        "        params['R3'] = self.relu(params['A3'])\n",
        "\n",
        "        # hidden layer 3 to output layer\n",
        "        params['O'] = np.dot(params['W4'], params['R3'])\n",
        "        #params['O'] = np.dot(params['W4'], params['R3']) + params['B4']\n",
        "\n",
        "        return params['O']\n",
        "\n",
        "\n",
        "    def lossfunction(self, output, y_train):\n",
        "        return (output-y_train)**2\n",
        "\n",
        "\n",
        "\n",
        "    ### Backpropagation\n",
        "    def backward_pass(self, y_train, output):\n",
        "        params = self.params\n",
        "        change_w = {}\n",
        "\n",
        "        # Calculate W4 update\n",
        "        error_O = output - y_train\n",
        "\n",
        "        # Calculate W3 update\n",
        "        error_R3 = np.multiply( np.dot(params['W4'].T, error_O), self.relu(params['A3'], derivative=True) )\n",
        "\n",
        "        # Calculate W2 update\n",
        "        error_R2 = np.multiply( np.dot(params['W3'].T, error_R3), self.relu(params['A2'], derivative=True) )\n",
        "\n",
        "        # Calculate W1 update\n",
        "        error_R1 = np.multiply( np.dot(params['W2'].T, error_R2), self.relu(params['A1'], derivative=True) )\n",
        "        \n",
        "        \n",
        "        change_w['W1'] = np.dot(params['I'], error_R1.T).T\n",
        "        change_w['W2'] = np.dot(params['R1'], error_R2.T).T\n",
        "        change_w['W3'] = np.dot(params['R2'], error_R3.T).T\n",
        "        change_w['W4'] = np.dot(params['R3'], error_O.T).T\n",
        "        return change_w\n",
        "\n",
        "\n",
        "    def update_network_parameters(self, changes_to_w):\n",
        "        for key, value in changes_to_w.items():\n",
        "            self.params[key] -= self.lr * value\n",
        "\n",
        "\n",
        "    def train(self, x_train, y_train, x_val, y_val):\n",
        "        start_time = time.time()\n",
        "        for iteration in range(self.epoch):\n",
        "            loss_list = []\n",
        "            for x, y in zip(x_train, y_train):\n",
        "                output = self.forward_pass(x.reshape(13, 1))\n",
        "                changes_to_w = self.backward_pass(y.reshape(1, 1), output)\n",
        "                self.update_network_parameters(changes_to_w)\n",
        "                loss_list.append(self.lossfunction(float(self.forward_pass(x.reshape(13, 1))), float(y)))\n",
        "            self.loss.append(np.mean(loss_list))\n",
        "            if (iteration-1) % 100 == 0:\n",
        "                print('Epoch: {0}, Time Spent: {1:.2f}s'.format(\n",
        "                    iteration+1, time.time() - start_time\n",
        "                ))\n"
      ]
    },
    {
      "cell_type": "code",
      "execution_count": null,
      "metadata": {
        "id": "444fE4Y1R19f"
      },
      "outputs": [],
      "source": [
        "boston = load_boston()\n",
        "X = boston.data #(506, 13)\n",
        "Y = boston.target.T #(506, )\n",
        "X_train, X_val, Y_train, Y_val = train_test_split(X, Y, test_size=0.15, random_state=42)\n",
        "dnn = DeepNeuralNetwork(size=[13, 24, 48, 24, 1], epoch=10000, lr=1e-9)\n",
        "dnn.train(X_train, Y_train, X_val, Y_train)\n"
      ]
    },
    {
      "cell_type": "code",
      "execution_count": 155,
      "metadata": {
        "colab": {
          "base_uri": "https://localhost:8080/",
          "height": 545
        },
        "id": "TMssANBnruoM",
        "outputId": "67daf736-bf8a-4f01-bbb2-4c4726c3bea6"
      },
      "outputs": [
        {
          "data": {
            "image/png": "[encoded data removed]",
            "text/plain": [
              "<Figure size 432x288 with 1 Axes>"
            ]
          },
          "metadata": {
            "needs_background": "light"
          },
          "output_type": "display_data"
        },
        {
          "data": {
            "image/png": "[encoded data removed]",
            "text/plain": [
              "<Figure size 432x288 with 1 Axes>"
            ]
          },
          "metadata": {
            "needs_background": "light"
          },
          "output_type": "display_data"
        }
      ],
      "source": [
        "import matplotlib.pyplot as plt\n",
        "\n",
        "predict = []\n",
        "for i in range(len(X_val)):\n",
        "    predict.append(float(dnn.forward_pass(X_val[i])))\n",
        "\n",
        "\n",
        "plt.figure()\n",
        "plt.plot(dnn.loss)\n",
        "plt.title(\"Loss Graph\")\n",
        "plt.ylim(0, 200)\n",
        "plt.show()\n",
        "\n",
        "plt.figure()\n",
        "plt.plot(predict, \".\", label=\"predict\")\n",
        "plt.plot(Y_val, \".\", label=\"target\")\n",
        "plt.title(\"predict VS target\")\n",
        "plt.ylim(0, 100)\n",
        "plt.legend()\n",
        "plt.show()\n",
        "\n",
        "#plt.figure()\n",
        "#plt.plot(predict - Y_val, \".\")\n",
        "#plt.ylim(-50, 50)\n",
        "#plt.title(\"predict - target\")\n",
        "#plt.show()"
      ]
    }
  ],
  "metadata": {
    "colab": {
      "provenance": []
    },
    "kernelspec": {
      "display_name": "Python 3",
      "language": "python",
      "name": "python3"
    },
    "language_info": {
      "name": "python",
      "version": "3.10.6 (main, Nov  2 2022, 18:53:38) [GCC 11.3.0]"
    },
    "vscode": {
      "interpreter": {
        "hash": "916dbcbb3f70747c44a77c7bcd40155683ae19c65e1c03b4aa3499c5328201f1"
      }
    }
  },
  "nbformat": 4,
  "nbformat_minor": 0
}
